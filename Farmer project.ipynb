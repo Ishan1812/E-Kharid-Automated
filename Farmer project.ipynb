{
 "cells": [
  {
   "cell_type": "code",
   "execution_count": 43,
   "id": "58dca03d",
   "metadata": {},
   "outputs": [
    {
     "name": "stderr",
     "output_type": "stream",
     "text": [
      "C:\\Users\\Ishan\\AppData\\Local\\Temp\\ipykernel_19608\\2435426.py:6: DeprecationWarning: executable_path has been deprecated, please pass in a Service object\n",
      "  driver = webdriver.Edge(executable_path = '/msedgedriver')\n",
      "Incompatible release of msedgedriver (version 113.0.1774.7) detected in PATH: C:\\Users\\Ishan\\msedgedriver.exe\n"
     ]
    }
   ],
   "source": [
    "from selenium import webdriver\n",
    "from selenium.webdriver.common.by import By\n",
    "import time\n",
    "\n",
    "number = \"1234567890\"\n",
    "driver = webdriver.Edge(executable_path = '/msedgedriver') \n",
    "driver.get(\"https://ekharid.haryana.gov.in/Grievance/FarmerSearch#\")\n",
    "mob = driver.find_element(By.ID,\"FMobile\")\n",
    "mob.click()\n",
    "numb = driver.find_element(By.ID,\"txtSearch\")\n",
    "numb.send_keys(number)\n",
    "search = driver.find_element(By.ID,\"btnSearch\")\n",
    "search.click()\n",
    "time.sleep(0.5)\n",
    "showmore = driver.find_element(By.ID,\"btnshowGJ\")\n",
    "showmore.click()\n",
    "time.sleep(0.5)\n",
    "\n",
    "alldata = driver.find_elements(By.XPATH,\"//table[@id = 'tblGatePass']/tbody/tr\")\n",
    "j = 0\n",
    "for i in alldata:\n",
    "    pr1 = driver.find_elements(By.CLASS_NAME,\"chkParent\")[j]\n",
    "    pr1.click()\n",
    "    time.sleep(0.5)\n",
    "    pr2 = driver.find_element(By.XPATH,\"//div[@class = 'modal-body']/div[@style = 'float: right; margin-top: 20px;']/button\")\n",
    "    pr2.click()\n",
    "    time.sleep(1.5)\n",
    "    clo = driver.find_element(By.XPATH,\"//div[@class = 'modal-body']/div[@style = 'float: right; margin-top: 20px;']/input\")\n",
    "    clo.click()\n",
    "    mob = driver.find_element(By.ID,\"FMobile\")\n",
    "    mob.click()\n",
    "\n",
    "    numb = driver.find_element(By.ID,\"txtSearch\")\n",
    "    numb.send_keys(number)\n",
    "    time.sleep(0.5)\n",
    "    \n",
    "    search = driver.find_element(By.ID,\"btnSearch\")\n",
    "    search.click()\n",
    "    time.sleep(1)\n",
    "    showmore = driver.find_element(By.ID,\"btnshowGJ\")\n",
    "    showmore.click()\n",
    "    j = j+1\n",
    "    time.sleep(0.5)\n",
    "driver.quit()"
   ]
  }
 ],
 "metadata": {
  "kernelspec": {
   "display_name": "Python 3 (ipykernel)",
   "language": "python",
   "name": "python3"
  },
  "language_info": {
   "codemirror_mode": {
    "name": "ipython",
    "version": 3
   },
   "file_extension": ".py",
   "mimetype": "text/x-python",
   "name": "python",
   "nbconvert_exporter": "python",
   "pygments_lexer": "ipython3",
   "version": "3.9.12"
  }
 },
 "nbformat": 4,
 "nbformat_minor": 5
}
